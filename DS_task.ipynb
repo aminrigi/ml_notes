{
  "nbformat": 4,
  "nbformat_minor": 0,
  "metadata": {
    "colab": {
      "name": "DS_task.ipynb",
      "provenance": [],
      "collapsed_sections": [],
      "authorship_tag": "ABX9TyM4jsYuzYJ0Yx1dAKDgP/rV",
      "include_colab_link": true
    },
    "kernelspec": {
      "name": "python3",
      "display_name": "Python 3"
    }
  },
  "cells": [
    {
      "cell_type": "markdown",
      "metadata": {
        "id": "view-in-github",
        "colab_type": "text"
      },
      "source": [
        "<a href=\"https://colab.research.google.com/github/aminrigi/ml_notes/blob/master/DS_task.ipynb\" target=\"_parent\"><img src=\"https://colab.research.google.com/assets/colab-badge.svg\" alt=\"Open In Colab\"/></a>"
      ]
    },
    {
      "cell_type": "code",
      "metadata": {
        "id": "n5PYNdm2erBe"
      },
      "source": [
        "import matplotlib.pyplot as plt\n",
        "import pandas as pd\n",
        "import seaborn as sns\n",
        "import numpy as np\n",
        "from google.colab import drive # importing data from my google drive to colab"
      ],
      "execution_count": 1,
      "outputs": []
    },
    {
      "cell_type": "code",
      "metadata": {
        "id": "z_q8rdsO7_Zl"
      },
      "source": [
        "import warnings\n",
        "warnings.filterwarnings('ignore')"
      ],
      "execution_count": 2,
      "outputs": []
    },
    {
      "cell_type": "code",
      "metadata": {
        "id": "u3PcVp7T_jW5",
        "colab": {
          "base_uri": "https://localhost:8080/"
        },
        "outputId": "abc58ec7-6513-4131-acbe-db6391d40a49"
      },
      "source": [
        "drive.mount('/content/gdrive')\n",
        "# reading from google drive\n",
        "df = pd.read_csv(\"/content/gdrive/My Drive/aminFiles/classification_task_train.csv\")"
      ],
      "execution_count": 51,
      "outputs": [
        {
          "output_type": "stream",
          "text": [
            "Drive already mounted at /content/gdrive; to attempt to forcibly remount, call drive.mount(\"/content/gdrive\", force_remount=True).\n"
          ],
          "name": "stdout"
        }
      ]
    },
    {
      "cell_type": "code",
      "metadata": {
        "colab": {
          "base_uri": "https://localhost:8080/",
          "height": 206
        },
        "id": "cZVuFe8_gQ9T",
        "outputId": "a1f9dc84-2f99-4f59-bcba-5f62366e0cd7"
      },
      "source": [
        "df.head(5)"
      ],
      "execution_count": null,
      "outputs": [
        {
          "output_type": "execute_result",
          "data": {
            "text/html": [
              "<div>\n",
              "<style scoped>\n",
              "    .dataframe tbody tr th:only-of-type {\n",
              "        vertical-align: middle;\n",
              "    }\n",
              "\n",
              "    .dataframe tbody tr th {\n",
              "        vertical-align: top;\n",
              "    }\n",
              "\n",
              "    .dataframe thead th {\n",
              "        text-align: right;\n",
              "    }\n",
              "</style>\n",
              "<table border=\"1\" class=\"dataframe\">\n",
              "  <thead>\n",
              "    <tr style=\"text-align: right;\">\n",
              "      <th></th>\n",
              "      <th>id</th>\n",
              "      <th>ae</th>\n",
              "      <th>wc</th>\n",
              "      <th>fn</th>\n",
              "      <th>oc</th>\n",
              "      <th>ed</th>\n",
              "      <th>en</th>\n",
              "      <th>rd</th>\n",
              "      <th>cg</th>\n",
              "      <th>cl</th>\n",
              "      <th>hw</th>\n",
              "      <th>nc</th>\n",
              "      <th>se</th>\n",
              "      <th>y</th>\n",
              "    </tr>\n",
              "  </thead>\n",
              "  <tbody>\n",
              "    <tr>\n",
              "      <th>0</th>\n",
              "      <td>1</td>\n",
              "      <td>62</td>\n",
              "      <td>wc004</td>\n",
              "      <td>199265.0</td>\n",
              "      <td>oc003</td>\n",
              "      <td>ed005</td>\n",
              "      <td>11</td>\n",
              "      <td>1</td>\n",
              "      <td>0</td>\n",
              "      <td>0</td>\n",
              "      <td>40</td>\n",
              "      <td>nc001</td>\n",
              "      <td>se002</td>\n",
              "      <td>False</td>\n",
              "    </tr>\n",
              "    <tr>\n",
              "      <th>1</th>\n",
              "      <td>2</td>\n",
              "      <td>29</td>\n",
              "      <td>wc003</td>\n",
              "      <td>88781.0</td>\n",
              "      <td>oc001</td>\n",
              "      <td>ed003</td>\n",
              "      <td>13</td>\n",
              "      <td>4</td>\n",
              "      <td>0</td>\n",
              "      <td>0</td>\n",
              "      <td>50</td>\n",
              "      <td>nc001</td>\n",
              "      <td>se001</td>\n",
              "      <td>False</td>\n",
              "    </tr>\n",
              "    <tr>\n",
              "      <th>2</th>\n",
              "      <td>3</td>\n",
              "      <td>36</td>\n",
              "      <td>wc001</td>\n",
              "      <td>202071.0</td>\n",
              "      <td>oc001</td>\n",
              "      <td>ed003</td>\n",
              "      <td>13</td>\n",
              "      <td>3</td>\n",
              "      <td>0</td>\n",
              "      <td>0</td>\n",
              "      <td>45</td>\n",
              "      <td>nc001</td>\n",
              "      <td>se002</td>\n",
              "      <td>True</td>\n",
              "    </tr>\n",
              "    <tr>\n",
              "      <th>3</th>\n",
              "      <td>4</td>\n",
              "      <td>31</td>\n",
              "      <td>wc004</td>\n",
              "      <td>199735.0</td>\n",
              "      <td>oc006</td>\n",
              "      <td>ed016</td>\n",
              "      <td>1</td>\n",
              "      <td>2</td>\n",
              "      <td>0</td>\n",
              "      <td>0</td>\n",
              "      <td>24</td>\n",
              "      <td>nc001</td>\n",
              "      <td>se001</td>\n",
              "      <td>False</td>\n",
              "    </tr>\n",
              "    <tr>\n",
              "      <th>4</th>\n",
              "      <td>5</td>\n",
              "      <td>59</td>\n",
              "      <td>wc002</td>\n",
              "      <td>185764.0</td>\n",
              "      <td>oc001</td>\n",
              "      <td>ed003</td>\n",
              "      <td>13</td>\n",
              "      <td>5</td>\n",
              "      <td>99999</td>\n",
              "      <td>0</td>\n",
              "      <td>43</td>\n",
              "      <td>nc001</td>\n",
              "      <td>se001</td>\n",
              "      <td>True</td>\n",
              "    </tr>\n",
              "  </tbody>\n",
              "</table>\n",
              "</div>"
            ],
            "text/plain": [
              "   id  ae     wc        fn     oc     ed  ...     cg  cl  hw     nc     se      y\n",
              "0   1  62  wc004  199265.0  oc003  ed005  ...      0   0  40  nc001  se002  False\n",
              "1   2  29  wc003   88781.0  oc001  ed003  ...      0   0  50  nc001  se001  False\n",
              "2   3  36  wc001  202071.0  oc001  ed003  ...      0   0  45  nc001  se002   True\n",
              "3   4  31  wc004  199735.0  oc006  ed016  ...      0   0  24  nc001  se001  False\n",
              "4   5  59  wc002  185764.0  oc001  ed003  ...  99999   0  43  nc001  se001   True\n",
              "\n",
              "[5 rows x 14 columns]"
            ]
          },
          "metadata": {
            "tags": []
          },
          "execution_count": 8
        }
      ]
    },
    {
      "cell_type": "code",
      "metadata": {
        "colab": {
          "base_uri": "https://localhost:8080/",
          "height": 318
        },
        "id": "mVPd24_TgcIJ",
        "outputId": "efcad564-1154-4057-ef56-d8fd8b7b936f"
      },
      "source": [
        "print('Total rows:', df.shape[0])\n",
        "df.describe()"
      ],
      "execution_count": null,
      "outputs": [
        {
          "output_type": "stream",
          "text": [
            "Total rows: 29304\n"
          ],
          "name": "stdout"
        },
        {
          "output_type": "execute_result",
          "data": {
            "text/html": [
              "<div>\n",
              "<style scoped>\n",
              "    .dataframe tbody tr th:only-of-type {\n",
              "        vertical-align: middle;\n",
              "    }\n",
              "\n",
              "    .dataframe tbody tr th {\n",
              "        vertical-align: top;\n",
              "    }\n",
              "\n",
              "    .dataframe thead th {\n",
              "        text-align: right;\n",
              "    }\n",
              "</style>\n",
              "<table border=\"1\" class=\"dataframe\">\n",
              "  <thead>\n",
              "    <tr style=\"text-align: right;\">\n",
              "      <th></th>\n",
              "      <th>id</th>\n",
              "      <th>ae</th>\n",
              "      <th>fn</th>\n",
              "      <th>en</th>\n",
              "      <th>rd</th>\n",
              "      <th>cg</th>\n",
              "      <th>cl</th>\n",
              "      <th>hw</th>\n",
              "    </tr>\n",
              "  </thead>\n",
              "  <tbody>\n",
              "    <tr>\n",
              "      <th>count</th>\n",
              "      <td>29304.000000</td>\n",
              "      <td>29304.000000</td>\n",
              "      <td>2.921500e+04</td>\n",
              "      <td>29304.000000</td>\n",
              "      <td>29304.000000</td>\n",
              "      <td>29304.000000</td>\n",
              "      <td>29304.000000</td>\n",
              "      <td>29304.000000</td>\n",
              "    </tr>\n",
              "    <tr>\n",
              "      <th>mean</th>\n",
              "      <td>14652.500000</td>\n",
              "      <td>38.588179</td>\n",
              "      <td>1.898685e+05</td>\n",
              "      <td>10.077293</td>\n",
              "      <td>3.015049</td>\n",
              "      <td>1101.668100</td>\n",
              "      <td>88.055010</td>\n",
              "      <td>40.416052</td>\n",
              "    </tr>\n",
              "    <tr>\n",
              "      <th>std</th>\n",
              "      <td>8459.480481</td>\n",
              "      <td>13.646619</td>\n",
              "      <td>1.057904e+05</td>\n",
              "      <td>2.580710</td>\n",
              "      <td>1.409311</td>\n",
              "      <td>7502.606259</td>\n",
              "      <td>404.360572</td>\n",
              "      <td>12.349827</td>\n",
              "    </tr>\n",
              "    <tr>\n",
              "      <th>min</th>\n",
              "      <td>1.000000</td>\n",
              "      <td>17.000000</td>\n",
              "      <td>1.376900e+04</td>\n",
              "      <td>1.000000</td>\n",
              "      <td>1.000000</td>\n",
              "      <td>0.000000</td>\n",
              "      <td>0.000000</td>\n",
              "      <td>1.000000</td>\n",
              "    </tr>\n",
              "    <tr>\n",
              "      <th>25%</th>\n",
              "      <td>7326.750000</td>\n",
              "      <td>28.000000</td>\n",
              "      <td>1.177890e+05</td>\n",
              "      <td>9.000000</td>\n",
              "      <td>2.000000</td>\n",
              "      <td>0.000000</td>\n",
              "      <td>0.000000</td>\n",
              "      <td>40.000000</td>\n",
              "    </tr>\n",
              "    <tr>\n",
              "      <th>50%</th>\n",
              "      <td>14652.500000</td>\n",
              "      <td>37.000000</td>\n",
              "      <td>1.786860e+05</td>\n",
              "      <td>10.000000</td>\n",
              "      <td>3.000000</td>\n",
              "      <td>0.000000</td>\n",
              "      <td>0.000000</td>\n",
              "      <td>40.000000</td>\n",
              "    </tr>\n",
              "    <tr>\n",
              "      <th>75%</th>\n",
              "      <td>21978.250000</td>\n",
              "      <td>48.000000</td>\n",
              "      <td>2.376705e+05</td>\n",
              "      <td>12.000000</td>\n",
              "      <td>4.000000</td>\n",
              "      <td>0.000000</td>\n",
              "      <td>0.000000</td>\n",
              "      <td>45.000000</td>\n",
              "    </tr>\n",
              "    <tr>\n",
              "      <th>max</th>\n",
              "      <td>29304.000000</td>\n",
              "      <td>90.000000</td>\n",
              "      <td>1.484705e+06</td>\n",
              "      <td>16.000000</td>\n",
              "      <td>5.000000</td>\n",
              "      <td>99999.000000</td>\n",
              "      <td>4356.000000</td>\n",
              "      <td>99.000000</td>\n",
              "    </tr>\n",
              "  </tbody>\n",
              "</table>\n",
              "</div>"
            ],
            "text/plain": [
              "                 id            ae  ...            cl            hw\n",
              "count  29304.000000  29304.000000  ...  29304.000000  29304.000000\n",
              "mean   14652.500000     38.588179  ...     88.055010     40.416052\n",
              "std     8459.480481     13.646619  ...    404.360572     12.349827\n",
              "min        1.000000     17.000000  ...      0.000000      1.000000\n",
              "25%     7326.750000     28.000000  ...      0.000000     40.000000\n",
              "50%    14652.500000     37.000000  ...      0.000000     40.000000\n",
              "75%    21978.250000     48.000000  ...      0.000000     45.000000\n",
              "max    29304.000000     90.000000  ...   4356.000000     99.000000\n",
              "\n",
              "[8 rows x 8 columns]"
            ]
          },
          "metadata": {
            "tags": []
          },
          "execution_count": 7
        }
      ]
    },
    {
      "cell_type": "code",
      "metadata": {
        "colab": {
          "base_uri": "https://localhost:8080/"
        },
        "id": "5KAl78BEhFX6",
        "outputId": "2257c3c7-c5f8-42d4-b29b-1851a397f5f7"
      },
      "source": [
        "df.dtypes"
      ],
      "execution_count": null,
      "outputs": [
        {
          "output_type": "execute_result",
          "data": {
            "text/plain": [
              "id      int64\n",
              "ae      int64\n",
              "wc     object\n",
              "fn    float64\n",
              "oc     object\n",
              "ed     object\n",
              "en      int64\n",
              "rd      int64\n",
              "cg      int64\n",
              "cl      int64\n",
              "hw      int64\n",
              "nc     object\n",
              "se     object\n",
              "y        bool\n",
              "dtype: object"
            ]
          },
          "metadata": {
            "tags": []
          },
          "execution_count": 8
        }
      ]
    },
    {
      "cell_type": "markdown",
      "metadata": {
        "id": "4HoIkchUiWkA"
      },
      "source": [
        "Five variables seem to be categorical. \n",
        "\n",
        "First, let's have a look at the numerical variables:\n"
      ]
    },
    {
      "cell_type": "code",
      "metadata": {
        "id": "0FdxCJkJwas8"
      },
      "source": [
        "df['y'] = df['y'].astype(int)# converting bool to int\n",
        "df = df.drop('id',1) # droping id col"
      ],
      "execution_count": null,
      "outputs": []
    },
    {
      "cell_type": "markdown",
      "metadata": {
        "id": "sR-itXBKxqV5"
      },
      "source": [
        "Let's take a look at the histogram of the variables:"
      ]
    },
    {
      "cell_type": "code",
      "metadata": {
        "colab": {
          "base_uri": "https://localhost:8080/",
          "height": 781
        },
        "id": "LecBXfIqu_5t",
        "outputId": "7f376b5f-f5aa-4bf1-bf90-6e9d88a658bf"
      },
      "source": [
        "df.hist(bins=30, figsize=(15, 10))"
      ],
      "execution_count": null,
      "outputs": [
        {
          "output_type": "execute_result",
          "data": {
            "text/plain": [
              "array([[<matplotlib.axes._subplots.AxesSubplot object at 0x7f34ff39e6d8>,\n",
              "        <matplotlib.axes._subplots.AxesSubplot object at 0x7f34ff2f4940>,\n",
              "        <matplotlib.axes._subplots.AxesSubplot object at 0x7f34ff328ba8>],\n",
              "       [<matplotlib.axes._subplots.AxesSubplot object at 0x7f34ff2d7e10>,\n",
              "        <matplotlib.axes._subplots.AxesSubplot object at 0x7f34ff2940b8>,\n",
              "        <matplotlib.axes._subplots.AxesSubplot object at 0x7f34ff247320>],\n",
              "       [<matplotlib.axes._subplots.AxesSubplot object at 0x7f34ff1fb588>,\n",
              "        <matplotlib.axes._subplots.AxesSubplot object at 0x7f34ff1ae7b8>,\n",
              "        <matplotlib.axes._subplots.AxesSubplot object at 0x7f34ff1ae828>]],\n",
              "      dtype=object)"
            ]
          },
          "metadata": {
            "tags": []
          },
          "execution_count": 10
        },
        {
          "output_type": "display_data",
          "data": {
            "image/png": "[encoded data removed]",
            "text/plain": [
              "<Figure size 1080x720 with 9 Axes>"
            ]
          },
          "metadata": {
            "tags": [],
            "needs_background": "light"
          }
        }
      ]
    },
    {
      "cell_type": "markdown",
      "metadata": {
        "id": "P9sUN8vwx0jU"
      },
      "source": [
        "Some variables such as cg and d are highly biased. Same goes for hw. y is imbalanced as well.\n",
        "\n"
      ]
    },
    {
      "cell_type": "markdown",
      "metadata": {
        "id": "6xMc5MTP4a-R"
      },
      "source": [
        "Let's have a look at the correlation matrix:"
      ]
    },
    {
      "cell_type": "code",
      "metadata": {
        "colab": {
          "base_uri": "https://localhost:8080/",
          "height": 504
        },
        "id": "ksG4hw_kisCq",
        "outputId": "0338eda7-99e9-4251-cfb5-3fdbf2dc84ac"
      },
      "source": [
        "numbers = ['int16', 'int32', 'int64', 'float16', 'float32', 'float64']\n",
        "numerics = df.select_dtypes(include=numbers) #extracting numerical features\n",
        "\n",
        "corr = numerics.corr() #correlation matrix\n",
        "\n",
        "mask = np.triu(np.ones_like(corr, dtype=bool))# Generate a mask for the upper triangle\n",
        "\n",
        "f, ax = plt.subplots(figsize=(8, 8))# figure size\n",
        "\n",
        "cmap = sns.diverging_palette(230, 20, as_cmap=True) # nicer colours\n",
        "\n",
        "sns.heatmap(corr, xticklabels=corr.columns, yticklabels=corr.columns, annot=True, cmap = cmap)\n",
        "\n"
      ],
      "execution_count": null,
      "outputs": [
        {
          "output_type": "execute_result",
          "data": {
            "text/plain": [
              "<matplotlib.axes._subplots.AxesSubplot at 0x7f34ffc29198>"
            ]
          },
          "metadata": {
            "tags": []
          },
          "execution_count": 11
        },
        {
          "output_type": "display_data",
          "data": {
            "image/png": "[encoded data removed]",
            "text/plain": [
              "<Figure size 576x576 with 2 Axes>"
            ]
          },
          "metadata": {
            "tags": [],
            "needs_background": "light"
          }
        }
      ]
    },
    {
      "cell_type": "markdown",
      "metadata": {
        "id": "MnHoywF8jrn5"
      },
      "source": [
        "Pairwise correlation doesn't seem to be significant."
      ]
    },
    {
      "cell_type": "markdown",
      "metadata": {
        "id": "ckr7LL3e1U1u"
      },
      "source": [
        "Categorical ones:"
      ]
    },
    {
      "cell_type": "code",
      "metadata": {
        "colab": {
          "base_uri": "https://localhost:8080/"
        },
        "id": "CheiZizwvGU1",
        "outputId": "af1923e1-2cd8-4744-d7b0-6eb1e6ffadb0"
      },
      "source": [
        "cat_vars = df.select_dtypes(include=['object']).copy() #extracting categorical variables\n",
        "cat_vars.columns # seeing the cat vars"
      ],
      "execution_count": null,
      "outputs": [
        {
          "output_type": "execute_result",
          "data": {
            "text/plain": [
              "Index([], dtype='object')"
            ]
          },
          "metadata": {
            "tags": []
          },
          "execution_count": 13
        }
      ]
    },
    {
      "cell_type": "markdown",
      "metadata": {
        "id": "u8q7FQNTfQE2"
      },
      "source": [
        "Let's dig deeper"
      ]
    },
    {
      "cell_type": "code",
      "metadata": {
        "colab": {
          "base_uri": "https://localhost:8080/",
          "height": 300
        },
        "id": "Ce1vhwZhfBjN",
        "outputId": "898d3f08-054d-4fc1-939a-283a359913ce"
      },
      "source": [
        "print('unique values in wc:',df['wc'].nunique())\n",
        "df['wc'].hist()"
      ],
      "execution_count": null,
      "outputs": [
        {
          "output_type": "stream",
          "text": [
            "unique values in wc: 8\n"
          ],
          "name": "stdout"
        },
        {
          "output_type": "execute_result",
          "data": {
            "text/plain": [
              "<matplotlib.axes._subplots.AxesSubplot at 0x7f34fe7c0cf8>"
            ]
          },
          "metadata": {
            "tags": []
          },
          "execution_count": 14
        },
        {
          "output_type": "display_data",
          "data": {
            "image/png": "[encoded data removed]",
            "text/plain": [
              "<Figure size 432x288 with 1 Axes>"
            ]
          },
          "metadata": {
            "tags": [],
            "needs_background": "light"
          }
        }
      ]
    },
    {
      "cell_type": "code",
      "metadata": {
        "colab": {
          "base_uri": "https://localhost:8080/",
          "height": 300
        },
        "id": "kYR9lFVAfYtJ",
        "outputId": "5b6b6fc8-4ec5-430e-bcc1-2c6f41063337"
      },
      "source": [
        "print('unique values in oc:',df['oc'].nunique())\n",
        "df['oc'].hist()"
      ],
      "execution_count": null,
      "outputs": [
        {
          "output_type": "stream",
          "text": [
            "unique values in oc: 14\n"
          ],
          "name": "stdout"
        },
        {
          "output_type": "execute_result",
          "data": {
            "text/plain": [
              "<matplotlib.axes._subplots.AxesSubplot at 0x7fbe56bd6e10>"
            ]
          },
          "metadata": {
            "tags": []
          },
          "execution_count": 12
        },
        {
          "output_type": "display_data",
          "data": {
            "image/png": "[encoded data removed]",
            "text/plain": [
              "<Figure size 432x288 with 1 Axes>"
            ]
          },
          "metadata": {
            "tags": [],
            "needs_background": "light"
          }
        }
      ]
    },
    {
      "cell_type": "code",
      "metadata": {
        "colab": {
          "base_uri": "https://localhost:8080/",
          "height": 300
        },
        "id": "YrwB0dNsffi0",
        "outputId": "a6421199-6cca-4752-9a0d-553ad34dd1fd"
      },
      "source": [
        "print('unique values in ed:',df['ed'].nunique())\n",
        "df['ed'].hist()"
      ],
      "execution_count": null,
      "outputs": [
        {
          "output_type": "stream",
          "text": [
            "unique values in ed: 16\n"
          ],
          "name": "stdout"
        },
        {
          "output_type": "execute_result",
          "data": {
            "text/plain": [
              "<matplotlib.axes._subplots.AxesSubplot at 0x7fbe56aeb4e0>"
            ]
          },
          "metadata": {
            "tags": []
          },
          "execution_count": 13
        },
        {
          "output_type": "display_data",
          "data": {
            "image/png": "[encoded data removed]",
            "text/plain": [
              "<Figure size 432x288 with 1 Axes>"
            ]
          },
          "metadata": {
            "tags": [],
            "needs_background": "light"
          }
        }
      ]
    },
    {
      "cell_type": "code",
      "metadata": {
        "colab": {
          "base_uri": "https://localhost:8080/",
          "height": 282
        },
        "id": "24vze9pzgN2g",
        "outputId": "36b80f6a-615d-457e-8f42-154a2926087e"
      },
      "source": [
        "df['nc'].hist()"
      ],
      "execution_count": null,
      "outputs": [
        {
          "output_type": "execute_result",
          "data": {
            "text/plain": [
              "<matplotlib.axes._subplots.AxesSubplot at 0x7fbe56a06470>"
            ]
          },
          "metadata": {
            "tags": []
          },
          "execution_count": 14
        },
        {
          "output_type": "display_data",
          "data": {
            "image/png": "[encoded data removed]",
            "text/plain": [
              "<Figure size 432x288 with 1 Axes>"
            ]
          },
          "metadata": {
            "tags": [],
            "needs_background": "light"
          }
        }
      ]
    },
    {
      "cell_type": "markdown",
      "metadata": {
        "id": "kXwOkMHv1YjO"
      },
      "source": [
        "*As a part of exporatory data analysis, I plot numerical vars grouped by categorical vars. For example, age by gender. I skip it since it doesn't seem to be very meaningful with anonymised columns.*"
      ]
    },
    {
      "cell_type": "markdown",
      "metadata": {
        "id": "3VxcSjFS3w-U"
      },
      "source": [
        "### **Missing values**"
      ]
    },
    {
      "cell_type": "code",
      "metadata": {
        "colab": {
          "base_uri": "https://localhost:8080/"
        },
        "id": "_LGuz3pM2GBy",
        "outputId": "eea2d418-8ac7-41e6-be72-4e90463ac5e8"
      },
      "source": [
        "df.isnull().values.any() # are there NAs?"
      ],
      "execution_count": null,
      "outputs": [
        {
          "output_type": "execute_result",
          "data": {
            "text/plain": [
              "True"
            ]
          },
          "metadata": {
            "tags": []
          },
          "execution_count": 6
        }
      ]
    },
    {
      "cell_type": "markdown",
      "metadata": {
        "id": "bLSKfbnU_4LG"
      },
      "source": [
        "Bummer! let's investigate more:"
      ]
    },
    {
      "cell_type": "code",
      "metadata": {
        "colab": {
          "base_uri": "https://localhost:8080/"
        },
        "id": "WOaCKIfN3CJC",
        "outputId": "87471469-265e-49f8-8366-86ed315e6c8f"
      },
      "source": [
        "na_rows_count = np.count_nonzero(df.isnull()) # count of rows that have NAs in them\n",
        "print('Count of rows with NAs:', na_rows_count)\n",
        "print('percentage of rows with NAs:', na_rows_count/df.shape[0] * 100 )"
      ],
      "execution_count": null,
      "outputs": [
        {
          "output_type": "stream",
          "text": [
            "Count of rows with NAs: 3936\n",
            "percentage of rows with NAs: 13.431613431613432\n"
          ],
          "name": "stdout"
        }
      ]
    },
    {
      "cell_type": "markdown",
      "metadata": {
        "id": "k9eUbhiC55Xp"
      },
      "source": [
        "The number of rows with NAs is too big to be ignored (or dropped).\n",
        "\n",
        "My usual approach: why these NAs occur? Is there a story behind them? (e.g. a sensor problem which happens to particular patterns/rows) Are they randomly distributed?\n",
        "\n",
        "A couple of approaches:\n",
        "\n",
        "*   Drop NAs (cols or rows)\n",
        "*   Imputation:\n",
        "    *    k-Nearest Neighbor \n",
        "    *    Mode for categoricals, mean for numerics,...\n",
        "*   Assuming NAs are just another value (or category) in categorical variables (only for categorical variables).\n",
        "\n",
        "Here, I go with imputation. We can have multiple iterations using other approaches and compare the results.\n",
        "\n",
        "\n",
        "\n"
      ]
    },
    {
      "cell_type": "code",
      "metadata": {
        "colab": {
          "base_uri": "https://localhost:8080/"
        },
        "id": "9rAigojb2ik2",
        "outputId": "472db88b-f434-42af-e933-844e2b76b0bf"
      },
      "source": [
        "df.isnull().sum()/len(df)*100 #summary of NAs: getting NAs percentage"
      ],
      "execution_count": null,
      "outputs": [
        {
          "output_type": "execute_result",
          "data": {
            "text/plain": [
              "ae    0.000000\n",
              "wc    5.640868\n",
              "fn    0.303713\n",
              "oc    5.661343\n",
              "ed    0.000000\n",
              "en    0.000000\n",
              "rd    0.000000\n",
              "cg    0.000000\n",
              "cl    0.000000\n",
              "hw    0.000000\n",
              "nc    1.825689\n",
              "se    0.000000\n",
              "y     0.000000\n",
              "dtype: float64"
            ]
          },
          "metadata": {
            "tags": []
          },
          "execution_count": 8
        }
      ]
    },
    {
      "cell_type": "markdown",
      "metadata": {
        "id": "HKrFNIr530CX"
      },
      "source": [
        "There's a small percentage of NAs in fn (numerical) and considerable percentage of NAs in wc and oc (both catergorical). There are some missing data in nc as well. "
      ]
    },
    {
      "cell_type": "code",
      "metadata": {
        "id": "Skao8SeuAn2k",
        "colab": {
          "base_uri": "https://localhost:8080/"
        },
        "outputId": "0db1c7cd-ef52-4823-931a-a556d29bf756"
      },
      "source": [
        "from sklearn.impute import KNNImputer\n",
        "from sklearn.preprocessing import LabelEncoder\n",
        "\n",
        "\n",
        "df_copy = df.copy()\n",
        "\n",
        "df = df.apply(lambda series: pd.Series(\n",
        "    LabelEncoder().fit_transform(series[series.notnull()]),\n",
        "    index=series[series.notnull()].index\n",
        "))\n",
        "\n",
        "imputer = KNNImputer(n_neighbors=1)\n",
        "df = pd.DataFrame(imputer.fit_transform(df))\n",
        "df.columns=df_copy.columns\n",
        "df.index=df_copy.index\n",
        "\n",
        "df.isnull().values.any() # are there NAs?\n",
        "\n",
        "\n",
        "#ref: https://stackoverflow.com/questions/64900801/implementing-knn-imputation-on-categorical-variables-in-an-sklearn-pipeline\n"
      ],
      "execution_count": null,
      "outputs": [
        {
          "output_type": "execute_result",
          "data": {
            "text/plain": [
              "False"
            ]
          },
          "metadata": {
            "tags": []
          },
          "execution_count": 9
        }
      ]
    },
    {
      "cell_type": "markdown",
      "metadata": {
        "id": "E0mbXOtQgaPS"
      },
      "source": [
        "### Encoding categorical variables using one-hot encoder:"
      ]
    },
    {
      "cell_type": "markdown",
      "metadata": {
        "id": "S-Lu2kHuXW3K"
      },
      "source": [
        "When we encode categorical variables, we need to make sure all categories are captured. By that I mean if a value for a category appears in the test data while it doesn't exist in the training, we need add a column in the training in which all the observations are set to zero. Same goes for test. In the next step I address this issue with the gurantee that *no leakage from train to test (or vice versa) is happenning*.\n",
        "\n",
        "Let's have a look at the categories at the test data:"
      ]
    },
    {
      "cell_type": "code",
      "metadata": {
        "id": "UNstztYbZD1g"
      },
      "source": [
        "#drive.mount('/content/gdrive')\n",
        "# reading from google drive\n",
        "df_test = pd.read_csv(\"/content/gdrive/My Drive/aminFiles/classification_task_test.csv\")"
      ],
      "execution_count": 53,
      "outputs": []
    },
    {
      "cell_type": "code",
      "metadata": {
        "colab": {
          "base_uri": "https://localhost:8080/"
        },
        "id": "-VLpYRWVZ1Zg",
        "outputId": "420321c7-11da-4e36-f333-9f5165b38035"
      },
      "source": [
        "print('unique values in wc in test:',df_test['wc'].nunique())"
      ],
      "execution_count": null,
      "outputs": [
        {
          "output_type": "stream",
          "text": [
            "unique values in wc in test: 7\n"
          ],
          "name": "stdout"
        }
      ]
    },
    {
      "cell_type": "markdown",
      "metadata": {
        "id": "geS1n_g2aCZR"
      },
      "source": [
        "My guess was right, category values in test and train don't 100% match. In the next steps, we impute NAs in test set, row-bind the two datasets, apply one-hot-encoder, and finally separate the two datasets."
      ]
    },
    {
      "cell_type": "code",
      "metadata": {
        "colab": {
          "base_uri": "https://localhost:8080/"
        },
        "id": "AG1JAt3JbWmv",
        "outputId": "7e5787a9-39b6-4ef7-a21d-ef278acb53e8"
      },
      "source": [
        "df_test.isnull().values.any() # are there NAs?"
      ],
      "execution_count": null,
      "outputs": [
        {
          "output_type": "execute_result",
          "data": {
            "text/plain": [
              "True"
            ]
          },
          "metadata": {
            "tags": []
          },
          "execution_count": 4
        }
      ]
    },
    {
      "cell_type": "code",
      "metadata": {
        "colab": {
          "base_uri": "https://localhost:8080/"
        },
        "id": "ceWbH_ypa2Df",
        "outputId": "bd45ae3d-3893-4b94-bbed-9d5647049a58"
      },
      "source": [
        "df_test_copy = df_test.copy()\n",
        "\n",
        "df_test = df_test.apply(lambda series: pd.Series(\n",
        "    LabelEncoder().fit_transform(series[series.notnull()]),\n",
        "    index=series[series.notnull()].index\n",
        "))\n",
        "\n",
        "imputer = KNNImputer(n_neighbors=1)\n",
        "df_test = pd.DataFrame(imputer.fit_transform(df_test))\n",
        "df_test.columns=df_test_copy.columns\n",
        "df_test.index=df_test_copy.index\n",
        "\n",
        "df_test.isnull().values.any() # are there NAs?"
      ],
      "execution_count": null,
      "outputs": [
        {
          "output_type": "execute_result",
          "data": {
            "text/plain": [
              "False"
            ]
          },
          "metadata": {
            "tags": []
          },
          "execution_count": 11
        }
      ]
    },
    {
      "cell_type": "code",
      "metadata": {
        "id": "xjq5nt-gb4g8"
      },
      "source": [
        "df_test['y'] = 0 # adding a dummy column for the purpose of row-binding, we'll remove it afterwards.\n",
        "df_test = df_test.drop('id',1) # droping the id col\n",
        "\n",
        "#concating\n",
        "df_total = pd.concat([df, df_test]) \n",
        "\n",
        "#one-hot-encoding\n",
        "df_total = pd.get_dummies(df_total, columns=cat_vars.columns, prefix=cat_vars.columns)\n",
        "\n",
        "#separating\n",
        "df = df_total[:df.shape[0]]\n",
        "df_test = df_total[df.shape[0]:]\n",
        "\n"
      ],
      "execution_count": null,
      "outputs": []
    },
    {
      "cell_type": "markdown",
      "metadata": {
        "id": "Q8RzMbN9Jo6g"
      },
      "source": [
        " **Scaling**\n",
        "\n",
        "Now that everything is encoded, it's time to **scale** variables. One thing that we need to be careful is that *rd* is a catogrical variable. Since it has numerical values, I assume it's an ordinal categorical variable (usually a domain expert can decide this). As a result, I use MinMax Scaler for *rd* and sandard scaler for other features. "
      ]
    },
    {
      "cell_type": "code",
      "metadata": {
        "id": "SOkGo6VBzlu8"
      },
      "source": [
        "#Scaling training\n",
        "\n",
        "rd_scaled = (  df['rd'] - min(df['rd'])  ) / ( max(df['rd']) - min(df['rd']) ) #MinMax scaling\n",
        "\n",
        "from sklearn.preprocessing import StandardScaler\n",
        "standard_scaler = StandardScaler()\n",
        "df = pd.DataFrame( standard_scaler.fit_transform(df) )\n",
        "\n",
        "df.columns=df_copy.columns\n",
        "df.index=df_copy.index\n",
        "df['rd'] = rd_scaled\n",
        "\n",
        "\n",
        "#Scaling test\n",
        "\n",
        "rd_scaled_t = (  df_test['rd'] - min(df_test['rd'])  ) / ( max(df_test['rd']) - min(df_test['rd']) ) #MinMax scaling\n",
        "\n",
        "from sklearn.preprocessing import StandardScaler\n",
        "standard_scaler = StandardScaler()\n",
        "df_test = pd.DataFrame( standard_scaler.fit_transform(df_test) )\n",
        "\n",
        "df_test.columns=df_copy.columns\n",
        "df_test['rd'] = rd_scaled_t\n"
      ],
      "execution_count": null,
      "outputs": []
    },
    {
      "cell_type": "code",
      "metadata": {
        "id": "GAPMS7WAyOWM"
      },
      "source": [
        "#dropping the dummy y from the test\n",
        "df_test = df_test.drop('y',1)\n",
        "\n",
        "\n",
        "#saving the pre-processed dataframes\n",
        "df.to_pickle('/content/gdrive/My Drive/aminFiles/train.pkl')\n",
        "df_test.to_pickle('/content/gdrive/My Drive/aminFiles/test.pkl')"
      ],
      "execution_count": null,
      "outputs": []
    },
    {
      "cell_type": "markdown",
      "metadata": {
        "id": "bXncxWcBkMS3"
      },
      "source": [
        "Both pre-processed train and test datasets are saved. Now, I focus on the training set."
      ]
    },
    {
      "cell_type": "code",
      "metadata": {
        "colab": {
          "base_uri": "https://localhost:8080/"
        },
        "id": "RDbILhEXsqaY",
        "outputId": "2e7274ea-77f0-428f-9f87-25ea9dd99d94"
      },
      "source": [
        "drive.mount('/content/gdrive')\n",
        "df = pd.read_pickle('/content/gdrive/My Drive/aminFiles/train.pkl')\n",
        "df_test = pd.read_pickle('/content/gdrive/My Drive/aminFiles/test.pkl')\n",
        "df_copy = df.copy()"
      ],
      "execution_count": 3,
      "outputs": [
        {
          "output_type": "stream",
          "text": [
            "Mounted at /content/gdrive\n"
          ],
          "name": "stdout"
        }
      ]
    },
    {
      "cell_type": "markdown",
      "metadata": {
        "id": "mTxQPVuy9LTx"
      },
      "source": [
        "Since we have a separate test set, we break it into train and validation sets. (note: our sampling is not stratified atm)"
      ]
    },
    {
      "cell_type": "code",
      "metadata": {
        "id": "Dd6IHNuE9YXy"
      },
      "source": [
        "y = df['y']\n",
        "y = y.astype('int')\n",
        "X = df.drop('y',1)\n",
        "\n",
        " \n",
        "from sklearn.model_selection import train_test_split\n",
        " \n",
        "X_train, X_val, y_train, y_val = train_test_split(X, y, test_size=0.25, random_state=1)"
      ],
      "execution_count": 4,
      "outputs": []
    },
    {
      "cell_type": "markdown",
      "metadata": {
        "id": "NY68RrvQD4tq"
      },
      "source": [
        "Now that the data is split into train and validation, I start with logistic regression:"
      ]
    },
    {
      "cell_type": "code",
      "metadata": {
        "id": "iaFVtShhBsSr",
        "colab": {
          "base_uri": "https://localhost:8080/"
        },
        "outputId": "ec9802d0-ada5-4c5d-b775-7399847fba58"
      },
      "source": [
        "from sklearn.linear_model import LogisticRegression\n",
        "model = LogisticRegression()\n",
        "model.fit(X_train, y_train)\n",
        "y_pred = model.predict(X_val)\n",
        "\n",
        "from sklearn.metrics import accuracy_score\n",
        "print('Logistic Regression Accuracy: ', accuracy_score(y_val, y_pred))"
      ],
      "execution_count": 6,
      "outputs": [
        {
          "output_type": "stream",
          "text": [
            "Logistic Regression Accuracy:  0.8336063336063336\n"
          ],
          "name": "stdout"
        }
      ]
    },
    {
      "cell_type": "markdown",
      "metadata": {
        "id": "dzj-G46aGRmk"
      },
      "source": [
        "Accuracy seem to be good. Let's dig a bit deeper:"
      ]
    },
    {
      "cell_type": "code",
      "metadata": {
        "colab": {
          "base_uri": "https://localhost:8080/"
        },
        "id": "X4Vgj_dEGaFT",
        "outputId": "813ef3c6-cb82-445a-a354-a3fb3d485656"
      },
      "source": [
        "from sklearn.metrics import confusion_matrix\n",
        "print(confusion_matrix(y_val, y_pred))\n",
        "\n",
        "from sklearn.metrics import precision_score\n",
        "from sklearn.metrics import recall_score\n",
        "from sklearn.metrics import f1_score\n",
        "\n",
        "print('Precision:', precision_score(y_val, y_pred))\n",
        "print('Recall:', recall_score(y_val, y_pred))\n",
        "print('F1:', f1_score(y_val, y_pred))\n"
      ],
      "execution_count": 7,
      "outputs": [
        {
          "output_type": "stream",
          "text": [
            "[[5269  315]\n",
            " [ 904  838]]\n",
            "Precision: 0.7267996530789246\n",
            "Recall: 0.48105625717566014\n",
            "F1: 0.5789291882556131\n"
          ],
          "name": "stdout"
        }
      ]
    },
    {
      "cell_type": "code",
      "metadata": {
        "colab": {
          "base_uri": "https://localhost:8080/",
          "height": 295
        },
        "id": "8F1x7bfjKror",
        "outputId": "bfc73b06-1cfc-4a87-de82-8b2391e90c87"
      },
      "source": [
        "from sklearn.metrics import roc_curve\n",
        "from sklearn.metrics import auc\n",
        "fpr, tpr, threshold = roc_curve(y_val, y_pred)\n",
        "roc_auc = auc(fpr, tpr)\n",
        "\n",
        "import matplotlib.pyplot as plt\n",
        "plt.title('ROC')\n",
        "plt.plot(fpr, tpr, 'b', label = 'AUC = %0.2f' % roc_auc)\n",
        "plt.legend(loc = 'lower right')\n",
        "plt.plot([0, 1], [0, 1],'r--')\n",
        "plt.xlim([0, 1])\n",
        "plt.ylim([0, 1])\n",
        "plt.ylabel('True Positive Rate')\n",
        "plt.xlabel('False Positive Rate')\n",
        "plt.show()"
      ],
      "execution_count": 8,
      "outputs": [
        {
          "output_type": "display_data",
          "data": {
            "image/png": "[encoded data removed]",
            "text/plain": [
              "<Figure size 432x288 with 1 Axes>"
            ]
          },
          "metadata": {
            "tags": [],
            "needs_background": "light"
          }
        }
      ]
    },
    {
      "cell_type": "markdown",
      "metadata": {
        "id": "85SbjZ2XGbdI"
      },
      "source": [
        "As expected (from looking at the labels in EDA) the accuracy is good because the data is imbalanced. The confusion matrix confirms it. Recall is not good, asn as a result F1. The ROC cureve tells us that the classifier is bettar than random (no classifer), but not that good either. Before k-fold X validation or using more advanced models, or tuning, we need to tackle the imbalanced nature of the data. Let's have a look at the label count:"
      ]
    },
    {
      "cell_type": "code",
      "metadata": {
        "id": "zSrgD4leSIIb"
      },
      "source": [
        "# wrapping evaluations in a function for ease of use\n",
        "from sklearn.metrics import mean_absolute_error\n",
        "from sklearn.metrics import f1_score\n",
        "from sklearn.metrics import precision_score\n",
        "from sklearn.metrics import recall_score\n",
        "from sklearn.metrics import accuracy_score\n",
        "from sklearn.metrics import roc_curve\n",
        "from sklearn.metrics import auc\n",
        "from sklearn.metrics import confusion_matrix\n",
        "def evaluate_model(y_val, y_pred):\n",
        "  print(confusion_matrix(y_val, y_pred))\n",
        "  print('Precision:', precision_score(y_val, y_pred))\n",
        "  print('Recall:', recall_score(y_val, y_pred))\n",
        "  print('F1:', f1_score(y_val, y_pred))\n",
        "  print('Accuracy: ', accuracy_score(y_val, y_pred))\n",
        "  print('Mean abs error: ', mean_absolute_error(y_val, y_pred))\n",
        "  fpr, tpr, threshold = roc_curve(y_val, y_pred)\n",
        "  roc_auc = auc(fpr, tpr)\n",
        "  plt.title('ROC')\n",
        "  plt.plot(fpr, tpr, 'b', label = 'AUC = %0.2f' % roc_auc)\n",
        "  plt.legend(loc = 'lower right')\n",
        "  plt.plot([0, 1], [0, 1],'r--')\n",
        "  plt.xlim([0, 1])\n",
        "  plt.ylim([0, 1])\n",
        "  plt.ylabel('True Positive Rate')\n",
        "  plt.xlabel('False Positive Rate')\n",
        "  plt.show()\n"
      ],
      "execution_count": 9,
      "outputs": []
    },
    {
      "cell_type": "code",
      "metadata": {
        "colab": {
          "base_uri": "https://localhost:8080/"
        },
        "id": "1pcecj6mPP5o",
        "outputId": "8e0d3f24-6107-43e2-c896-e830a94c1649"
      },
      "source": [
        "y.value_counts() # getting the count of values in pandas"
      ],
      "execution_count": null,
      "outputs": [
        {
          "output_type": "execute_result",
          "data": {
            "text/plain": [
              "0    22247\n",
              "1     7057\n",
              "Name: y, dtype: int64"
            ]
          },
          "metadata": {
            "tags": []
          },
          "execution_count": 25
        }
      ]
    },
    {
      "cell_type": "markdown",
      "metadata": {
        "id": "-dUgkHg9PqqO"
      },
      "source": [
        "A few approach to fix imbalanced problem:\n",
        "* Random under-sampling: reducing observations from the majority label\n",
        "* Random over-sampling: adding more copies from the minority label\n",
        "* Synthetic Minority Oversampling Technique (SMOTE): Creates synthetic points from the minority. (chooses random points in the knn of minority points)\n",
        "\n",
        "\n",
        "Let's start with **under-sampling**:\n"
      ]
    },
    {
      "cell_type": "markdown",
      "metadata": {
        "id": "10p71uVW5RFJ"
      },
      "source": [
        "We split data in to train and validation sets. Sampling approaches are applied on the test only and are validated using validation set."
      ]
    },
    {
      "cell_type": "code",
      "metadata": {
        "colab": {
          "base_uri": "https://localhost:8080/",
          "height": 417
        },
        "id": "-jFxeVTH5WJD",
        "outputId": "7bb3355b-2d10-49a1-8ae9-1977e33655fd"
      },
      "source": [
        "#splitting\n",
        "X_train, X_val, y_train, y_val = train_test_split(X, y, test_size=0.20, random_state=1)\n",
        "\n",
        "from imblearn.under_sampling import RandomUnderSampler\n",
        "from sklearn.linear_model import LogisticRegression\n",
        "\n",
        "under_sampler = RandomUnderSampler()\n",
        "X_rus_train, y_rus_train = under_sampler.fit_resample(X_train, y_train)\n",
        "\n",
        "model = LogisticRegression()\n",
        "model.fit(X_rus_train, y_rus_train)\n",
        "y_rus_pred = model.predict(X_val)\n",
        "\n",
        "\n",
        "evaluate_model(y_val, y_rus_pred) #evaluating"
      ],
      "execution_count": 10,
      "outputs": [
        {
          "output_type": "stream",
          "text": [
            "[[3507  940]\n",
            " [ 346 1068]]\n",
            "Precision: 0.5318725099601593\n",
            "Recall: 0.7553041018387553\n",
            "F1: 0.624196376388077\n",
            "Accuracy:  0.7805835181709606\n",
            "Mean abs error:  0.21941648182903942\n"
          ],
          "name": "stdout"
        },
        {
          "output_type": "display_data",
          "data": {
            "image/png": "[encoded data removed]",
            "text/plain": [
              "<Figure size 432x288 with 1 Axes>"
            ]
          },
          "metadata": {
            "tags": [],
            "needs_background": "light"
          }
        }
      ]
    },
    {
      "cell_type": "markdown",
      "metadata": {
        "id": "xjZd2XnvVlQq"
      },
      "source": [
        "As we can see recall and F1 have improved considerably better. Now let's use **over-sampling**:"
      ]
    },
    {
      "cell_type": "code",
      "metadata": {
        "colab": {
          "base_uri": "https://localhost:8080/",
          "height": 417
        },
        "id": "o6pcM_kC6nVQ",
        "outputId": "bd9727b6-ce86-4a74-9a0b-59d0fe86ed67"
      },
      "source": [
        "from imblearn.over_sampling import RandomOverSampler\n",
        "over_sampler = RandomOverSampler()\n",
        "X_ros_train, y_ros_train = over_sampler.fit_resample(X_train, y_train)\n",
        "\n",
        "model = LogisticRegression()\n",
        "model.fit(X_ros_train, y_ros_train)\n",
        "y_ros_pred = model.predict(X_val)\n",
        "\n",
        "evaluate_model(y_val, y_ros_pred)"
      ],
      "execution_count": 19,
      "outputs": [
        {
          "output_type": "stream",
          "text": [
            "[[3521  926]\n",
            " [ 346 1068]]\n",
            "Precision: 0.5356068204613842\n",
            "Recall: 0.7553041018387553\n",
            "F1: 0.6267605633802816\n",
            "Accuracy:  0.7829721890462379\n",
            "Mean abs error:  0.21702781095376217\n"
          ],
          "name": "stdout"
        },
        {
          "output_type": "display_data",
          "data": {
            "image/png": "[encoded data removed]",
            "text/plain": [
              "<Figure size 432x288 with 1 Axes>"
            ]
          },
          "metadata": {
            "tags": [],
            "needs_background": "light"
          }
        }
      ]
    },
    {
      "cell_type": "markdown",
      "metadata": {
        "id": "0Hv6eAxiXPJW"
      },
      "source": [
        "The metrics are quite similar. Now **SMOTE**:"
      ]
    },
    {
      "cell_type": "code",
      "metadata": {
        "colab": {
          "base_uri": "https://localhost:8080/",
          "height": 417
        },
        "id": "cPQtT4jE7oj8",
        "outputId": "2106557e-3e31-4316-f0d5-349fe622a388"
      },
      "source": [
        "from imblearn.over_sampling import SMOTE\n",
        "smote = SMOTE()\n",
        "X_smote_train, y_smote_train = smote.fit_resample(X_train, y_train)\n",
        "\n",
        "model = LogisticRegression()\n",
        "model.fit(X_smote_train, y_smote_train)\n",
        "y_smote_pred = model.predict(X_val)\n",
        "\n",
        "evaluate_model(y_val, y_smote_pred)"
      ],
      "execution_count": null,
      "outputs": [
        {
          "output_type": "stream",
          "text": [
            "[[3502  945]\n",
            " [ 345 1069]]\n",
            "Precision: 0.5307845084409136\n",
            "Recall: 0.756011315417256\n",
            "F1: 0.6236872812135356\n",
            "Accuracy:  0.7799010407780242\n",
            "Mean abs error:  0.22009895922197578\n"
          ],
          "name": "stdout"
        },
        {
          "output_type": "display_data",
          "data": {
            "image/png": "[encoded data removed]",
            "text/plain": [
              "<Figure size 432x288 with 1 Axes>"
            ]
          },
          "metadata": {
            "tags": [],
            "needs_background": "light"
          }
        }
      ]
    },
    {
      "cell_type": "markdown",
      "metadata": {
        "id": "hhivatxh5L7x"
      },
      "source": [
        "The results are quite similar for all three approaches. "
      ]
    },
    {
      "cell_type": "markdown",
      "metadata": {
        "id": "Z2AUbbLGX8bs"
      },
      "source": [
        "The results are quite similar to under-sampling but worse than oversampling. (To use over-sampling with k-fold we need to make sure not to k-fold after oversampling -- causes leakage). For now, I go with simple random over sampling split and will use different algorithms/models.\n",
        "\n",
        "**SVM**"
      ]
    },
    {
      "cell_type": "code",
      "metadata": {
        "colab": {
          "base_uri": "https://localhost:8080/",
          "height": 417
        },
        "id": "ZfouunEhb5vh",
        "outputId": "812142e2-11a9-4cb5-cdc4-cb8e575ccdda"
      },
      "source": [
        "from sklearn import svm\n",
        "model = svm.SVC(kernel='linear')\n",
        "model.fit(X_ros_train, y_ros_train)\n",
        "y_ros_pred = model.predict(X_val)\n",
        "\n",
        "evaluate_model(y_val, y_ros_pred)"
      ],
      "execution_count": null,
      "outputs": [
        {
          "output_type": "stream",
          "text": [
            "[[3522  925]\n",
            " [ 352 1062]]\n",
            "Precision: 0.5344740815299447\n",
            "Recall: 0.751060820367751\n",
            "F1: 0.6245221993531314\n",
            "Accuracy:  0.7821190923050674\n",
            "Mean abs error:  0.2178809076949326\n"
          ],
          "name": "stdout"
        },
        {
          "output_type": "display_data",
          "data": {
            "image/png": "[encoded data removed]",
            "text/plain": [
              "<Figure size 432x288 with 1 Axes>"
            ]
          },
          "metadata": {
            "tags": [],
            "needs_background": "light"
          }
        }
      ]
    },
    {
      "cell_type": "markdown",
      "metadata": {
        "id": "GN6dvq1Sd9op"
      },
      "source": [
        "SVM's results are slightly better than logistic regression. Let's try RBF (Radial Basis Function) kernel as well"
      ]
    },
    {
      "cell_type": "code",
      "metadata": {
        "colab": {
          "base_uri": "https://localhost:8080/",
          "height": 417
        },
        "id": "1gT1z1Bld8ka",
        "outputId": "6ccaca4d-e4f7-457e-ee24-1836705f434d"
      },
      "source": [
        "model = svm.SVC(kernel='rbf')\n",
        "model.fit(X_ros_train, y_ros_train)\n",
        "y_ros_pred = model.predict(X_val)\n",
        "evaluate_model(y_val, y_ros_pred)"
      ],
      "execution_count": null,
      "outputs": [
        {
          "output_type": "stream",
          "text": [
            "[[3537  910]\n",
            " [ 354 1060]]\n",
            "Precision: 0.5380710659898477\n",
            "Recall: 0.7496463932107497\n",
            "F1: 0.6264775413711583\n",
            "Accuracy:  0.7843371438321105\n",
            "Mean abs error:  0.21566285616788944\n"
          ],
          "name": "stdout"
        },
        {
          "output_type": "display_data",
          "data": {
            "image/png": "[encoded data removed]",
            "text/plain": [
              "<Figure size 432x288 with 1 Axes>"
            ]
          },
          "metadata": {
            "tags": [],
            "needs_background": "light"
          }
        }
      ]
    },
    {
      "cell_type": "markdown",
      "metadata": {
        "id": "Y_oRiIl2sDG4"
      },
      "source": [
        "Random Forest:"
      ]
    },
    {
      "cell_type": "code",
      "metadata": {
        "colab": {
          "base_uri": "https://localhost:8080/",
          "height": 417
        },
        "id": "0EgJUyU4rXKE",
        "outputId": "edcb35e9-2d22-4c16-c443-a4b9e58665a5"
      },
      "source": [
        "from sklearn.ensemble import RandomForestClassifier\n",
        "model = RandomForestClassifier()\n",
        "model.fit(X_ros_train, y_ros_train)\n",
        "y_ros_pred = model.predict(X_val)\n",
        "\n",
        "evaluate_model(y_val, y_ros_pred)"
      ],
      "execution_count": null,
      "outputs": [
        {
          "output_type": "stream",
          "text": [
            "[[3993  454]\n",
            " [ 555  859]]\n",
            "Precision: 0.6542269611576542\n",
            "Recall: 0.6074964639321075\n",
            "F1: 0.62999633296663\n",
            "Accuracy:  0.8278450776318035\n",
            "Mean abs error:  0.17215492236819654\n"
          ],
          "name": "stdout"
        },
        {
          "output_type": "display_data",
          "data": {
            "image/png": "[encoded data removed]",
            "text/plain": [
              "<Figure size 432x288 with 1 Axes>"
            ]
          },
          "metadata": {
            "tags": [],
            "needs_background": "light"
          }
        }
      ]
    },
    {
      "cell_type": "markdown",
      "metadata": {
        "id": "YgfweAFjcfYO"
      },
      "source": [
        "Compared to SVM and LR, Random forest improves most of the metrics (except for recall and auc). Let's give xGboost a try as well:"
      ]
    },
    {
      "cell_type": "code",
      "metadata": {
        "colab": {
          "base_uri": "https://localhost:8080/",
          "height": 417
        },
        "id": "uO7kBMM-aKbb",
        "outputId": "207da977-976e-4a1a-c5e1-e6220df5b0a2"
      },
      "source": [
        "from xgboost import XGBClassifier\n",
        "model = XGBClassifier()\n",
        "\n",
        "X_ros_train = pd.DataFrame(X_ros_train)\n",
        "X_ros_train.columns = X_train.columns \n",
        "\n",
        "model.fit(X_ros_train, y_ros_train)\n",
        "y_ros_pred = model.predict(X_val)\n",
        "evaluate_model(y_val, y_ros_pred)"
      ],
      "execution_count": null,
      "outputs": [
        {
          "output_type": "stream",
          "text": [
            "[[3587  860]\n",
            " [ 300 1114]]\n",
            "Precision: 0.5643363728470111\n",
            "Recall: 0.7878359264497878\n",
            "F1: 0.6576151121605668\n",
            "Accuracy:  0.8020815560484559\n",
            "Mean abs error:  0.1979184439515441\n"
          ],
          "name": "stdout"
        },
        {
          "output_type": "display_data",
          "data": {
            "image/png": "[encoded data removed]",
            "text/plain": [
              "<Figure size 432x288 with 1 Axes>"
            ]
          },
          "metadata": {
            "tags": [],
            "needs_background": "light"
          }
        }
      ]
    },
    {
      "cell_type": "markdown",
      "metadata": {
        "id": "NbmVDObFOASF"
      },
      "source": [
        "As we can see XGBoost beats SVM and LR in all metrics. XGBoost and RF are comparable(in some metrics XGB outperforms RF, in the rest RF outperforms). If we set F1 as our most important metric, XGB is the best so far. Let's see how catBoost performs:"
      ]
    },
    {
      "cell_type": "code",
      "metadata": {
        "colab": {
          "base_uri": "https://localhost:8080/",
          "height": 417
        },
        "id": "OzyEuioIRtrz",
        "outputId": "64efa8b4-cf10-4d3b-e001-b85661e63811"
      },
      "source": [
        "from catboost import CatBoostClassifier\n",
        "\n",
        "model = CatBoostClassifier(logging_level='Silent')\n",
        "model.fit(X_ros_train, y_ros_train)\n",
        "y_ros_pred = model.predict(X_val)\n",
        "evaluate_model(y_val, y_ros_pred)"
      ],
      "execution_count": null,
      "outputs": [
        {
          "output_type": "stream",
          "text": [
            "[[3744  703]\n",
            " [ 325 1089]]\n",
            "Precision: 0.6077008928571429\n",
            "Recall: 0.7701555869872702\n",
            "F1: 0.6793512164691204\n",
            "Accuracy:  0.8246033100153557\n",
            "Mean abs error:  0.17539668998464425\n"
          ],
          "name": "stdout"
        },
        {
          "output_type": "display_data",
          "data": {
            "image/png": "[encoded data removed]",
            "text/plain": [
              "<Figure size 432x288 with 1 Axes>"
            ]
          },
          "metadata": {
            "tags": [],
            "needs_background": "light"
          }
        }
      ]
    },
    {
      "cell_type": "markdown",
      "metadata": {
        "id": "SZFRlxtUSXwo"
      },
      "source": [
        "catBoost outperforms all other models. I must add that each of the tried models has its own parameters. In order to select a model, we can tune their input parameters. Here, I just went with default parameters. Based on default parameters, among the tried models, we have a winner: catBoost. "
      ]
    },
    {
      "cell_type": "markdown",
      "metadata": {
        "id": "lp42j6KGVIsM"
      },
      "source": [
        "### Stratified k-fold random over-sampling\n",
        "\n",
        "In order to choose the best model, it's better to use all of training set (here X_train). k-fold cross validation ensures this. However, we have an imbalanced dataset. In such cases, we can use stratified k-fold cross validation. That means in each step of the k-fold cross valdiation, a sampling (here over-sampling) is performed. \n",
        "\n",
        "According to Andrew Ng [1], when we want to select a model, it's best to focus on the most important metric. Otherwise, we end up with a multi-objective optimisation problem. To choose the best model, we can perform k-fold cross validation for all model and select the best one. For demonstration, I try stratified 10-fold cross validation for a couple of models and set F1 and the performance metric. "
      ]
    },
    {
      "cell_type": "code",
      "metadata": {
        "colab": {
          "base_uri": "https://localhost:8080/"
        },
        "id": "Q0fJMjAMXFZ8",
        "outputId": "0bb6b006-473f-4097-8697-ffc4b87e20f3"
      },
      "source": [
        "from sklearn.model_selection import cross_val_score\n",
        "from sklearn.model_selection import RepeatedStratifiedKFold\n",
        "from imblearn.pipeline import Pipeline\n",
        "\n",
        "\n",
        "# define pipeline\n",
        "steps = [('over', RandomOverSampler()), ('model', CatBoostClassifier(logging_level='Silent'))]\n",
        "pipeline = Pipeline(steps=steps)\n",
        "# evaluate pipeline\n",
        "cv = RepeatedStratifiedKFold(n_splits=10, n_repeats=3, random_state=1)\n",
        "scores = cross_val_score(pipeline, X, y, scoring='f1_micro', cv=cv, n_jobs=-1)\n",
        "score = np.mean(scores)\n",
        "print('F1 Score:', score)"
      ],
      "execution_count": null,
      "outputs": [
        {
          "output_type": "stream",
          "text": [
            "F1 Score: 0.8166805079591312\n"
          ],
          "name": "stdout"
        }
      ]
    },
    {
      "cell_type": "code",
      "metadata": {
        "colab": {
          "base_uri": "https://localhost:8080/"
        },
        "id": "T3rMNkpPvhfA",
        "outputId": "2c2d0291-3dea-4fc4-dc1b-4ed8345d78d9"
      },
      "source": [
        "# define pipeline\n",
        "steps = [('over', RandomOverSampler()), ('model', LogisticRegression())]\n",
        "pipeline = Pipeline(steps=steps)\n",
        "# evaluate pipeline\n",
        "cv = RepeatedStratifiedKFold(n_splits=10, n_repeats=3, random_state=1)\n",
        "scores = cross_val_score(pipeline, X, y, scoring='f1_micro', cv=cv, n_jobs=-1)\n",
        "score = np.mean(scores)\n",
        "print('F1 Score:', score)"
      ],
      "execution_count": null,
      "outputs": [
        {
          "output_type": "stream",
          "text": [
            "F1 Score: 0.7783581843919439\n"
          ],
          "name": "stdout"
        }
      ]
    },
    {
      "cell_type": "markdown",
      "metadata": {
        "id": "oHRG0EjzQHVS"
      },
      "source": [
        "### Model Parameters Tunning\n",
        "\n",
        "catBoost has two important parameters: *learning_rate* and *l2_leaf_reg* (learning rate and leaf regularisation term). I optimise the model using *hyperopt* package. The goal is to find the best model parameters that maximise F1."
      ]
    },
    {
      "cell_type": "code",
      "metadata": {
        "id": "us3nKj0wsj8V"
      },
      "source": [
        "import hyperopt\n",
        "from catboost import CatBoostClassifier\n",
        "\n",
        "def hyperopt_objective(params):\n",
        "    model = CatBoostClassifier(\n",
        "        l2_leaf_reg=int(params['l2_leaf_reg']),\n",
        "        learning_rate=params['learning_rate'],\n",
        "        iterations=500,\n",
        "        eval_metric='F1',\n",
        "        verbose=False,\n",
        "        loss_function='Logloss'\n",
        "    )\n",
        "\n",
        "    model.fit(X_ros_train, y_ros_train)\n",
        "    y_ros_pred = model.predict(X_val)\n",
        "\n",
        "    return 1 - f1_score(y_val, y_ros_pred) # as hyperopt minimises"
      ],
      "execution_count": null,
      "outputs": []
    },
    {
      "cell_type": "code",
      "metadata": {
        "colab": {
          "base_uri": "https://localhost:8080/"
        },
        "id": "J_RpWIPYvvMk",
        "outputId": "8f4be12e-7e40-4f15-b543-18d35250a5c3"
      },
      "source": [
        "from numpy.random import RandomState\n",
        "\n",
        "# these param ranges are recommended by catBoost help\n",
        "params_space = {\n",
        "    'l2_leaf_reg': hyperopt.hp.qloguniform('l2_leaf_reg', 0, 2, 1), \n",
        "    'learning_rate': hyperopt.hp.uniform('learning_rate', 1e-3, 5e-1),\n",
        "}\n",
        "\n",
        "trials = hyperopt.Trials()\n",
        "\n",
        "best = hyperopt.fmin(\n",
        "    hyperopt_objective,\n",
        "    space=params_space,\n",
        "    algo=hyperopt.tpe.suggest,\n",
        "    max_evals=50,\n",
        "    trials=trials\n",
        ")\n",
        "\n",
        "print(best)"
      ],
      "execution_count": null,
      "outputs": [
        {
          "output_type": "stream",
          "text": [
            "100%|██████████| 50/50 [07:54<00:00,  9.48s/it, best loss: 0.31604226705091265]\n",
            "{'l2_leaf_reg': 1.0, 'learning_rate': 0.11853557179959676}\n"
          ],
          "name": "stdout"
        }
      ]
    },
    {
      "cell_type": "markdown",
      "metadata": {
        "id": "wrdvIIIczr6s"
      },
      "source": [
        "Now that we have the opimal parameters, we build a model with the optimal paramters and test on the validation set: "
      ]
    },
    {
      "cell_type": "code",
      "metadata": {
        "colab": {
          "base_uri": "https://localhost:8080/",
          "height": 417
        },
        "id": "7EXh6oGNQVTX",
        "outputId": "f00aea97-02e9-48e2-d8ae-2f66fb9c6d0a"
      },
      "source": [
        "model = CatBoostClassifier(\n",
        "        l2_leaf_reg=int(best['l2_leaf_reg']),\n",
        "        learning_rate= best['learning_rate'],\n",
        "        iterations=500,\n",
        "        eval_metric='F1',\n",
        "        verbose=False,\n",
        "        loss_function='Logloss'\n",
        ")\n",
        "model.fit(X_ros_train, y_ros_train)\n",
        "y_ros_pred = model.predict(X_val)\n",
        "evaluate_model(y_val, y_ros_pred)"
      ],
      "execution_count": null,
      "outputs": [
        {
          "output_type": "stream",
          "text": [
            "[[3806  641]\n",
            " [ 346 1068]]\n",
            "Precision: 0.6249268578115857\n",
            "Recall: 0.7553041018387553\n",
            "F1: 0.6839577329490873\n",
            "Accuracy:  0.8315987032929534\n",
            "Mean abs error:  0.16840129670704657\n"
          ],
          "name": "stdout"
        },
        {
          "output_type": "display_data",
          "data": {
            "image/png": "[encoded data removed]",
            "text/plain": [
              "<Figure size 432x288 with 1 Axes>"
            ]
          },
          "metadata": {
            "tags": [],
            "needs_background": "light"
          }
        }
      ]
    },
    {
      "cell_type": "markdown",
      "metadata": {
        "id": "ZHV05_XHz_u0"
      },
      "source": [
        "After paramater tunning all metrics (except recall) are improved."
      ]
    },
    {
      "cell_type": "markdown",
      "metadata": {
        "id": "exgUnbIf0Rqm"
      },
      "source": [
        "## Building the final model\n",
        "\n",
        "Moment of truth! Now that we have a model with good parameters, it's time to build a model based on the entirity of traning data. \n",
        "\n",
        "First step, random over sampling:"
      ]
    },
    {
      "cell_type": "code",
      "metadata": {
        "id": "nutr6nRvRkil"
      },
      "source": [
        "from imblearn.over_sampling import RandomOverSampler\n",
        "over_sampler = RandomOverSampler()\n",
        "X_ros, y_ros = over_sampler.fit_resample(X, y)"
      ],
      "execution_count": 47,
      "outputs": []
    },
    {
      "cell_type": "markdown",
      "metadata": {
        "id": "cyjDhBrvRxM5"
      },
      "source": [
        "Second step, train the model with optimal parameters using all of training data (ofc, using random over sampler) "
      ]
    },
    {
      "cell_type": "code",
      "metadata": {
        "colab": {
          "base_uri": "https://localhost:8080/"
        },
        "id": "HS1oR8M6SC5n",
        "outputId": "fbf0b695-739c-49f6-e865-ec79df3cd3ca"
      },
      "source": [
        "model = CatBoostClassifier(\n",
        "        l2_leaf_reg=int(best['l2_leaf_reg']),\n",
        "        learning_rate= best['learning_rate'],\n",
        "        iterations=500,\n",
        "        eval_metric='F1',\n",
        "        verbose=False,\n",
        "        loss_function='Logloss'\n",
        ")\n",
        "model.fit(X_ros, y_ros)"
      ],
      "execution_count": 48,
      "outputs": [
        {
          "output_type": "execute_result",
          "data": {
            "text/plain": [
              "<catboost.core.CatBoostClassifier at 0x7f317ce222e8>"
            ]
          },
          "metadata": {
            "tags": []
          },
          "execution_count": 48
        }
      ]
    },
    {
      "cell_type": "markdown",
      "metadata": {
        "id": "VEQGgKCPSMQe"
      },
      "source": [
        "Final step, predicting the test result:"
      ]
    },
    {
      "cell_type": "code",
      "metadata": {
        "id": "OPzVl_GMSb17"
      },
      "source": [
        "y_test = model.predict(df_test)\n",
        "\n",
        "#attaching the results to the test set and exporting it\n",
        "df_test_csv = pd.read_csv(\"/content/gdrive/My Drive/aminFiles/classification_task_test.csv\")\n",
        "df_test_csv['y'] = y_test.astype('bool')\n",
        "df_test_csv.to_csv(\"/content/gdrive/My Drive/aminFiles/classification_task_test_answer.csv\")"
      ],
      "execution_count": 52,
      "outputs": []
    },
    {
      "cell_type": "markdown",
      "metadata": {
        "id": "PoNZhyeLU2Ko"
      },
      "source": [
        "# Summary and Conclusion\n",
        "\n",
        "The steps that I've taken can be summarised as follow\n",
        "* Exploratory data analysis: looking and the distrbution of features, investigating numerical and categorical variables.\n",
        "* Addressing missing values usin k-NN impute\n",
        "* Scaling and feature transformation\n",
        "* Adressing imbalanced nature of the dataset\n",
        "* Bulding, analysing, and tunning models\n",
        "\n",
        "In my view an important key to the whole process is **iteration**. We need to iterate several times and choose the best approaches and parameters. \n",
        "\n",
        "\n",
        "\n"
      ]
    },
    {
      "cell_type": "markdown",
      "metadata": {
        "id": "mUrthxAuM57g"
      },
      "source": [
        "# Appendix\n",
        "\n",
        "Below is some of the things that I did for this task which I like to include them as apendix. Some of them provide extra information and some other are aras for further investigations. \n",
        "\n",
        "## Learning Curves (bias-variance trade-off)\n",
        "Learning curves are good to analyse bias-variance trade-off. Based on them we can decide, if we should add/remove features, add/remove samples, or use more complex models or not. Here I use a code from scikit (https://scikit-learn.org/stable/auto_examples/model_selection/plot_learning_curve.html) to plot learning curves. "
      ]
    },
    {
      "cell_type": "code",
      "metadata": {
        "colab": {
          "base_uri": "https://localhost:8080/",
          "height": 896
        },
        "id": "dQMbxfHblvVV",
        "outputId": "999147e0-8f8e-48dd-d9fc-cd97e9792685"
      },
      "source": [
        "import numpy as np\n",
        "import matplotlib.pyplot as plt\n",
        "from sklearn.svm import SVC\n",
        "from sklearn.datasets import load_digits\n",
        "from sklearn.model_selection import learning_curve\n",
        "from sklearn.model_selection import ShuffleSplit\n",
        "\n",
        "\n",
        "def plot_learning_curve(estimator, title, X, y, axes=None, ylim=None, cv=None,\n",
        "                        n_jobs=None, train_sizes=np.linspace(.1, 1.0, 5)):\n",
        "\n",
        "    if axes is None:\n",
        "        _, axes = plt.subplots(1, 3, figsize=(20, 5))\n",
        "\n",
        "    axes[0].set_title(title)\n",
        "    if ylim is not None:\n",
        "        axes[0].set_ylim(*ylim)\n",
        "    axes[0].set_xlabel(\"Training examples\")\n",
        "    axes[0].set_ylabel(\"Score\")\n",
        "\n",
        "    train_sizes, train_scores, test_scores, fit_times, _ = \\\n",
        "        learning_curve(estimator, X, y, cv=cv, n_jobs=n_jobs,\n",
        "                       train_sizes=train_sizes,\n",
        "                       return_times=True)\n",
        "        \n",
        "    train_scores_mean = np.mean(train_scores, axis=1)\n",
        "    train_scores_std = np.std(train_scores, axis=1)\n",
        "    test_scores_mean = np.mean(test_scores, axis=1)\n",
        "    test_scores_std = np.std(test_scores, axis=1)\n",
        "    fit_times_mean = np.mean(fit_times, axis=1)\n",
        "    fit_times_std = np.std(fit_times, axis=1)\n",
        "\n",
        "    # Plot learning curve\n",
        "    axes[0].grid()\n",
        "    axes[0].fill_between(train_sizes, train_scores_mean - train_scores_std,\n",
        "                         train_scores_mean + train_scores_std, alpha=0.1,\n",
        "                         color=\"r\")\n",
        "    axes[0].fill_between(train_sizes, test_scores_mean - test_scores_std,\n",
        "                         test_scores_mean + test_scores_std, alpha=0.1,\n",
        "                         color=\"g\")\n",
        "    axes[0].plot(train_sizes, train_scores_mean, 'o-', color=\"r\",\n",
        "                 label=\"Training score\")\n",
        "    axes[0].plot(train_sizes, test_scores_mean, 'o-', color=\"g\",\n",
        "                 label=\"Cross-validation score\")\n",
        "    axes[0].legend(loc=\"best\")\n",
        "\n",
        "    # Plot n_samples vs fit_times\n",
        "    axes[1].grid()\n",
        "    axes[1].plot(train_sizes, fit_times_mean, 'o-')\n",
        "    axes[1].fill_between(train_sizes, fit_times_mean - fit_times_std,\n",
        "                         fit_times_mean + fit_times_std, alpha=0.1)\n",
        "    axes[1].set_xlabel(\"Training examples\")\n",
        "    axes[1].set_ylabel(\"fit_times\")\n",
        "    axes[1].set_title(\"Scalability of the model\")\n",
        "\n",
        "    # Plot fit_time vs score\n",
        "    axes[2].grid()\n",
        "    axes[2].plot(fit_times_mean, test_scores_mean, 'o-')\n",
        "    axes[2].fill_between(fit_times_mean, test_scores_mean - test_scores_std,\n",
        "                         test_scores_mean + test_scores_std, alpha=0.1)\n",
        "    axes[2].set_xlabel(\"fit_times\")\n",
        "    axes[2].set_ylabel(\"Score\")\n",
        "    axes[2].set_title(\"Performance of the model\")\n",
        "\n",
        "    return plt\n",
        "\n",
        "\n",
        "\n",
        "fig, axes = plt.subplots(3, 2, figsize=(10, 15))\n",
        "\n",
        "\n",
        "\n",
        "title = \"Learning Curves (Logistic Regression)\"\n",
        "\n",
        "cv = ShuffleSplit(n_splits=10, test_size=0.2, random_state=0)\n",
        "\n",
        "model = LogisticRegression()\n",
        "plot_learning_curve(model, title, X, y, axes=axes[:, 0], ylim=(0.7, 1.01),\n",
        "                    cv=cv, n_jobs=4)\n",
        "\n",
        "title = r\"Learning Curves (SVM, RBF kernel, $\\gamma=0.001$)\"\n",
        "# SVC is more expensive so we do a lower number of CV iterations:\n",
        "cv = ShuffleSplit(n_splits=10, test_size=0.2, random_state=0)\n",
        "estimator = SVC(gamma=0.001)\n",
        "plot_learning_curve(estimator, title, X, y, axes=axes[:, 1], ylim=(0.7, 1.01),\n",
        "                    cv=cv, n_jobs=4)\n",
        "\n",
        "plt.show()"
      ],
      "execution_count": 45,
      "outputs": [
        {
          "output_type": "display_data",
          "data": {
            "image/png": "[encoded data removed]",
            "text/plain": [
              "<Figure size 720x1080 with 6 Axes>"
            ]
          },
          "metadata": {
            "tags": [],
            "needs_background": "light"
          }
        }
      ]
    },
    {
      "cell_type": "markdown",
      "metadata": {
        "id": "wAucE60pTngI"
      },
      "source": [
        "This code above performs ordinary random sampling and it's obvious there's a high bias. That is totally expected because of the imbalanced data. The code needs to be modified and sampling must change into random over-sampling for which I need more time. A part of analysis is to plot learning curves for different models and features and analyse bias-variance trade-off."
      ]
    },
    {
      "cell_type": "markdown",
      "metadata": {
        "id": "fBmeuYMXfy6e"
      },
      "source": [
        "## More features engineering\n",
        "\n",
        "From EDA we remember that a couple of features were highly skewed."
      ]
    },
    {
      "cell_type": "code",
      "metadata": {
        "colab": {
          "base_uri": "https://localhost:8080/"
        },
        "id": "hofNDAUnh-Uy",
        "outputId": "e7bf06e2-d796-423f-e6e4-2adc4abc2338"
      },
      "source": [
        "X.skew(axis = 0, skipna = True)[0:7]"
      ],
      "execution_count": 46,
      "outputs": [
        {
          "output_type": "execute_result",
          "data": {
            "text/plain": [
              "ae    0.560728\n",
              "fn    0.058533\n",
              "en   -0.315526\n",
              "rd   -0.016200\n",
              "cg    3.546970\n",
              "cl    5.254992\n",
              "hw    0.066615\n",
              "dtype: float64"
            ]
          },
          "metadata": {
            "tags": []
          },
          "execution_count": 46
        }
      ]
    },
    {
      "cell_type": "code",
      "metadata": {
        "colab": {
          "base_uri": "https://localhost:8080/",
          "height": 287
        },
        "id": "Me00LAQKmxVO",
        "outputId": "b46525bd-8743-4cba-fb34-b33394cf83a4"
      },
      "source": [
        "X.skew(axis = 0, skipna = True)[0:7].plot.bar()"
      ],
      "execution_count": null,
      "outputs": [
        {
          "output_type": "execute_result",
          "data": {
            "text/plain": [
              "<matplotlib.axes._subplots.AxesSubplot at 0x7fb221a080f0>"
            ]
          },
          "metadata": {
            "tags": []
          },
          "execution_count": 117
        },
        {
          "output_type": "display_data",
          "data": {
            "image/png": "[encoded data removed]",
            "text/plain": [
              "<Figure size 432x288 with 1 Axes>"
            ]
          },
          "metadata": {
            "tags": [],
            "needs_background": "light"
          }
        }
      ]
    },
    {
      "cell_type": "markdown",
      "metadata": {
        "id": "hjpOt0VfinW8"
      },
      "source": [
        "cg and cl are highly skewed. \n",
        "\n",
        "#### Data transformation: \n",
        "Let's try a few transformations (log, cube root, and sinh) on the highly skewed variables and see if it decreases skewness: "
      ]
    },
    {
      "cell_type": "markdown",
      "metadata": {
        "id": "mSYySpb5lwQ4"
      },
      "source": [
        "log transformation:"
      ]
    },
    {
      "cell_type": "code",
      "metadata": {
        "colab": {
          "base_uri": "https://localhost:8080/"
        },
        "id": "0lGLTv7QqItz",
        "outputId": "99f8e915-6d99-4ddb-c572-9db9721fbbc9"
      },
      "source": [
        "from scipy.stats import skew \n",
        "\n",
        "log_cg = np.log(X['cg']-min(X['cg'])+1)\n",
        "std_log_cg = (log_cg - np.mean(log_cg)) / np.std(log_cg)\n",
        "print('std_log skew cg:', skew(log_cg))\n",
        "print('Sinh skew cg', skew(np.sinh(X['cg'])))\n",
        "cube_cg = np.cbrt(X['cg'])\n",
        "print('cube skew:', skew(cube_cg))\n",
        "\n",
        "log_cl = np.log(X['cl']-min(X['cl'])+1)\n",
        "std_log_cl = (log_cl - np.mean(log_cl)) / np.std(log_cl)\n",
        "print('std_log skew cl:', skew(log_cl))\n",
        "cube_cl = np.cbrt(X['cl'])\n",
        "print('cube skew cl:', skew(cube_cl))\n",
        "\n"
      ],
      "execution_count": null,
      "outputs": [
        {
          "output_type": "stream",
          "text": [
            "std_log skew cg: 3.272027615588268\n",
            "Sinh skew cg 5.354892915783103\n",
            "cube skew: 3.1124200349164592\n",
            "std_log skew cl: 4.596921343290603\n",
            "cube skew cl: 4.382172365648493\n"
          ],
          "name": "stdout"
        }
      ]
    },
    {
      "cell_type": "markdown",
      "metadata": {
        "id": "-x0t0Aplu0rl"
      },
      "source": [
        "Seems log transformation doesn't decrease the skewness that much. Same story goes for sinh and cubic root. One approach is to remove **outliers** and performing transformation afterwards (I tried this one, wasn't helpful). Analysing outliers requires SME knowledge. Another approach is binning the skewed varibles into a number of bins."
      ]
    },
    {
      "cell_type": "code",
      "metadata": {
        "id": "thQOd6s_Dr_D"
      },
      "source": [
        "X_t = X.copy() # t for transformed"
      ],
      "execution_count": null,
      "outputs": []
    },
    {
      "cell_type": "code",
      "metadata": {
        "colab": {
          "base_uri": "https://localhost:8080/"
        },
        "id": "JeRK9q0NDuYH",
        "outputId": "fe7658cc-bb83-4cb0-a899-c7e23c027bae"
      },
      "source": [
        "X_t.columns[:7]"
      ],
      "execution_count": null,
      "outputs": [
        {
          "output_type": "execute_result",
          "data": {
            "text/plain": [
              "Index(['ae', 'fn', 'en', 'rd', 'cg', 'cl', 'hw'], dtype='object')"
            ]
          },
          "metadata": {
            "tags": []
          },
          "execution_count": 182
        }
      ]
    },
    {
      "cell_type": "code",
      "metadata": {
        "id": "p426ZEjxtcu5"
      },
      "source": [
        "#X_t['ae_fn'] = X_t['ae']*X_t['fn']\n",
        "#X_t['en_cg'] = X_t['en']*X_t['cg']\n",
        "#X_t['en_cl'] = X_t['en']*X_t['cl']\n",
        "X_t['cl_3'] = np.cbrt(X_t['cl'])\n",
        "X_t['cg_3'] = np.cbrt(X_t['cg'])\n",
        "X_t['fn_2'] = np.cbrt(X_t['fn'])\n"
      ],
      "execution_count": null,
      "outputs": []
    },
    {
      "cell_type": "code",
      "metadata": {
        "id": "Fnwy2tg2xB6K"
      },
      "source": [
        "#splitting\n",
        "X_t_train, X_t_val, y_t_train, y_t_val = train_test_split(X_t, y, test_size=0.25, random_state=1)\n",
        "\n",
        "#random over-sampling\n",
        "over_sampler = RandomOverSampler()\n",
        "X_t_ros_train, y_t_ros_train = over_sampler.fit_resample(X_t_train, y_t_train)"
      ],
      "execution_count": null,
      "outputs": []
    },
    {
      "cell_type": "code",
      "metadata": {
        "colab": {
          "base_uri": "https://localhost:8080/",
          "height": 417
        },
        "id": "Yr6J2D6p1ttZ",
        "outputId": "b2f63f28-c80a-4f58-bea8-8aba849d9636"
      },
      "source": [
        "model = LogisticRegression()\n",
        "model.fit(X_t_ros_train, y_t_ros_train)\n",
        "y_t_ros_pred = model.predict(X_t_val)\n",
        "\n",
        "evaluate_model(y_t_val.astype('int'), y_t_ros_pred.astype('int'))"
      ],
      "execution_count": null,
      "outputs": [
        {
          "output_type": "stream",
          "text": [
            "[[4448 1136]\n",
            " [ 426 1316]]\n",
            "Precision: 0.5367047308319739\n",
            "Recall: 0.7554535017221584\n",
            "F1: 0.6275631855030996\n",
            "Accuracy:  0.7867867867867868\n",
            "Mean abs error:  0.2132132132132132\n"
          ],
          "name": "stdout"
        },
        {
          "output_type": "display_data",
          "data": {
            "image/png": "[encoded data removed]",
            "text/plain": [
              "<Figure size 432x288 with 1 Axes>"
            ]
          },
          "metadata": {
            "tags": [],
            "needs_background": "light"
          }
        }
      ]
    },
    {
      "cell_type": "code",
      "metadata": {
        "colab": {
          "base_uri": "https://localhost:8080/",
          "height": 417
        },
        "id": "dJglG7-s1llh",
        "outputId": "dc917ff3-ab11-4417-aa28-cf6314c15174"
      },
      "source": [
        "model = CatBoostClassifier(logging_level='Silent')\n",
        "model.fit(X_t_ros_train, y_t_ros_train)\n",
        "y_t_ros_pred = model.predict(X_t_val)\n",
        "\n",
        "evaluate_model(y_t_val.astype('int'), y_t_ros_pred.astype('int'))"
      ],
      "execution_count": null,
      "outputs": [
        {
          "output_type": "stream",
          "text": [
            "[[4680  904]\n",
            " [ 404 1338]]\n",
            "Precision: 0.5967885816235504\n",
            "Recall: 0.7680826636050516\n",
            "F1: 0.6716867469879517\n",
            "Accuracy:  0.8214578214578214\n",
            "Mean abs error:  0.17854217854217855\n"
          ],
          "name": "stdout"
        },
        {
          "output_type": "display_data",
          "data": {
            "image/png": "[encoded data removed]",
            "text/plain": [
              "<Figure size 432x288 with 1 Axes>"
            ]
          },
          "metadata": {
            "tags": [],
            "needs_background": "light"
          }
        }
      ]
    },
    {
      "cell_type": "markdown",
      "metadata": {
        "id": "79bCkIP33Q7p"
      },
      "source": [
        "As expected transformation (here cube root) doesn't make much difference. In a few iterations, I also created a couple new features by multiplying other features. No impact on the outcome. "
      ]
    },
    {
      "cell_type": "code",
      "metadata": {
        "id": "y4wi9oFZIuH9"
      },
      "source": [
        "X_t = X.copy() # t for transformed\n",
        "X_t['y'] = y\n",
        "\n",
        "X_t = X_t[X_t['cg'] < X_t['cg'].quantile(.95)]\n",
        "X_t = X_t[X_t['cl']< X_t['cl'].quantile(.97)]\n",
        "\n"
      ],
      "execution_count": null,
      "outputs": []
    },
    {
      "cell_type": "code",
      "metadata": {
        "colab": {
          "base_uri": "https://localhost:8080/"
        },
        "id": "6x6efRyF_ZRu",
        "outputId": "2b282c81-e973-408f-957a-b1f92ccb3d26"
      },
      "source": [
        "X_t = X_t[X_t['cl'] > X_t['cl'].quantile(.02)]\n",
        "X_t.shape"
      ],
      "execution_count": null,
      "outputs": [
        {
          "output_type": "execute_result",
          "data": {
            "text/plain": [
              "(540, 89)"
            ]
          },
          "metadata": {
            "tags": []
          },
          "execution_count": 149
        }
      ]
    },
    {
      "cell_type": "code",
      "metadata": {
        "colab": {
          "base_uri": "https://localhost:8080/"
        },
        "id": "EJqwrdXG_NlS",
        "outputId": "893dd15b-7450-4bde-81b8-81f6a30028fc"
      },
      "source": [
        ""
      ],
      "execution_count": null,
      "outputs": [
        {
          "output_type": "execute_result",
          "data": {
            "text/plain": [
              "(27814, 89)"
            ]
          },
          "metadata": {
            "tags": []
          },
          "execution_count": 133
        }
      ]
    },
    {
      "cell_type": "code",
      "metadata": {
        "colab": {
          "base_uri": "https://localhost:8080/"
        },
        "id": "ovE4KsyM_uun",
        "outputId": "66e35935-b603-48d4-ac84-42a271e83df4"
      },
      "source": [
        "X_t.shape"
      ],
      "execution_count": null,
      "outputs": [
        {
          "output_type": "execute_result",
          "data": {
            "text/plain": [
              "(0, 89)"
            ]
          },
          "metadata": {
            "tags": []
          },
          "execution_count": 128
        }
      ]
    },
    {
      "cell_type": "code",
      "metadata": {
        "colab": {
          "base_uri": "https://localhost:8080/"
        },
        "id": "AcmvQgI8_eUr",
        "outputId": "0a7e7555-3950-4285-d9a4-8b07631398d5"
      },
      "source": [
        "log_cg = np.log(X_t['cg']-min(X_t['cg'])+1)\n",
        "std_log_cg = (log_cg - np.mean(log_cg)) / np.std(log_cg)\n",
        "print('std_log skew cg:', skew(log_cg))\n",
        "print('Sinh skew cg', skew(np.sinh(X_t['cg'])))\n",
        "cube_cg = np.cbrt(X_t['cg'])\n",
        "print('cube skew:', skew(cube_cg))\n",
        "\n",
        "log_cl = np.log(X_t['cl']-min(X_t['cl'])+1)\n",
        "std_log_cl = (log_cl - np.mean(log_cl)) / np.std(log_cl)\n",
        "print('std_log skew cl:', skew(log_cl))\n",
        "cube_cl = np.cbrt(X_t['cl'])\n",
        "print('cube skew cl:', skew(cube_cl))"
      ],
      "execution_count": null,
      "outputs": [
        {
          "output_type": "stream",
          "text": [
            "std_log skew cg: 5.546617889023087\n",
            "Sinh skew cg 7.306094245968596\n",
            "cube skew: 5.247990084085938\n",
            "std_log skew cl: 7.428289829440748\n",
            "cube skew cl: 7.023741179538631\n"
          ],
          "name": "stdout"
        }
      ]
    },
    {
      "cell_type": "code",
      "metadata": {
        "colab": {
          "base_uri": "https://localhost:8080/"
        },
        "id": "H8lfeMRYDj6O",
        "outputId": "0c1f1529-26ef-41d0-bbc7-4dc2585ca446"
      },
      "source": [
        "X_ros['cg'].quantile(.25)"
      ],
      "execution_count": null,
      "outputs": [
        {
          "output_type": "execute_result",
          "data": {
            "text/plain": [
              "-0.281029419803842"
            ]
          },
          "metadata": {
            "tags": []
          },
          "execution_count": 84
        }
      ]
    },
    {
      "cell_type": "code",
      "metadata": {
        "colab": {
          "base_uri": "https://localhost:8080/"
        },
        "id": "OXdI9bQG6ho5",
        "outputId": "b757a6c6-9eea-4ade-9106-9336e39773f8"
      },
      "source": [
        "Q1 = X_ros.quantile(0.25)\n",
        "Q3 = X_ros.quantile(0.75)\n",
        "IQR = Q3 - Q1\n",
        "print(IQR[1:7])"
      ],
      "execution_count": null,
      "outputs": [
        {
          "output_type": "stream",
          "text": [
            "fn    1.643024\n",
            "en    1.549987\n",
            "rd    1.419158\n",
            "cg    0.000000\n",
            "cl    0.000000\n",
            "hw    0.823321\n",
            "dtype: float64\n"
          ],
          "name": "stdout"
        }
      ]
    },
    {
      "cell_type": "code",
      "metadata": {
        "colab": {
          "base_uri": "https://localhost:8080/"
        },
        "id": "IgBnoY75j_cF",
        "outputId": "be2e54ca-85fc-4cee-e425-9a1220319913"
      },
      "source": [
        "#X_ros_bckUp = X_ros.copy()\n",
        "#converting to DF\n",
        "#X_ros = pd.DataFrame(X_ros)\n",
        "#X_ros.columns = X.columns\n",
        "\n",
        "#transformation\n",
        "\n",
        "\n",
        "X_ros['fn_transformed'] = np.log(X_ros['fn'])\n",
        "X_ros['cg_transformed'] = np.log(X_ros['cg'])\n",
        "#X_ros['cl_transformed'] = np.log(X_ros['cl'])\n",
        "\n",
        "#X_ros.skew(axis = 0, skipna = True)"
      ],
      "execution_count": null,
      "outputs": [
        {
          "output_type": "stream",
          "text": [
            "/usr/local/lib/python3.6/dist-packages/pandas/core/series.py:726: RuntimeWarning: invalid value encountered in log\n",
            "  result = getattr(ufunc, method)(*inputs, **kwargs)\n"
          ],
          "name": "stderr"
        },
        {
          "output_type": "execute_result",
          "data": {
            "text/plain": [
              "ae                0.393519\n",
              "fn                0.081522\n",
              "en               -0.320803\n",
              "rd               -0.015013\n",
              "cg                2.515841\n",
              "                    ...   \n",
              "se_0.0           -1.046392\n",
              "se_1.0            1.046392\n",
              "fn_transformed   -1.781423\n",
              "cg_transformed   -3.600397\n",
              "cl_transformed   -2.349873\n",
              "Length: 91, dtype: float64"
            ]
          },
          "metadata": {
            "tags": []
          },
          "execution_count": 103
        }
      ]
    },
    {
      "cell_type": "markdown",
      "metadata": {
        "id": "S5wEGkR5gUmF"
      },
      "source": [
        "#### Binary classification using keras\n"
      ]
    },
    {
      "cell_type": "markdown",
      "metadata": {
        "id": "fNawtJ9e31Oy"
      },
      "source": [
        "This is just the frist try to use keras for this problem."
      ]
    },
    {
      "cell_type": "code",
      "metadata": {
        "colab": {
          "base_uri": "https://localhost:8080/"
        },
        "id": "5BKSbOJBnw5k",
        "outputId": "5178c8f7-dd00-4fa0-c058-cd3e7f3cbb0c"
      },
      "source": [
        "import tensorflow as tf\n",
        "from tensorflow import keras\n",
        "from tensorflow.keras import Sequential\n",
        "from tensorflow.keras import layers\n",
        "\n",
        "\n",
        "# input shape\n",
        "input_shape = (X_ros_train.shape[1],)\n",
        "print(f'Feature shape: {input_shape}')\n",
        "\n",
        "# Create the model\n",
        "model = Sequential()\n",
        "model.add(layers.Dense(50, input_shape=input_shape, activation='relu'))\n",
        "model.add(layers.Dense(50, activation='sigmoid'))\n",
        "model.add(layers.Dense(1))\n",
        "model.summary()\n",
        "\n",
        "\n",
        "\n",
        "from keras import backend as K\n",
        "\n",
        "def recall_m(y_true, y_pred):\n",
        "    true_positives = K.sum(K.round(K.clip(y_true * y_pred, 0, 1)))\n",
        "    possible_positives = K.sum(K.round(K.clip(y_true, 0, 1)))\n",
        "    recall = true_positives / (possible_positives + K.epsilon())\n",
        "    return recall\n",
        "\n",
        "def precision_m(y_true, y_pred):\n",
        "    true_positives = K.sum(K.round(K.clip(y_true * y_pred, 0, 1)))\n",
        "    predicted_positives = K.sum(K.round(K.clip(y_pred, 0, 1)))\n",
        "    precision = true_positives / (predicted_positives + K.epsilon())\n",
        "    return precision\n",
        "\n",
        "def f1_m(y_true, y_pred):\n",
        "    precision = precision_m(y_true, y_pred)\n",
        "    recall = recall_m(y_true, y_pred)\n",
        "    return 2*((precision*recall)/(precision+recall+K.epsilon()))\n",
        "\n",
        "\n",
        "# Configure the model and start training\n",
        "model.compile(loss='binary_crossentropy', optimizer='adam', metrics=['acc',f1_m,precision_m, recall_m])\n",
        "\n",
        "history = model.fit(X_ros_train, y_ros_train, validation_split=0.25, epochs=10, verbose=0)\n",
        "\n",
        "# evaluate the model\n",
        "loss, accuracy, f1_score, precision, recall = model.evaluate(X_val, y_val, verbose=0)\n",
        "\n",
        "print('Precision:', precision)\n",
        "print('Recall:', recall)\n",
        "print('f1', f1_score)\n",
        "print('Accuracy', accuracy)"
      ],
      "execution_count": null,
      "outputs": [
        {
          "output_type": "stream",
          "text": [
            "Feature shape: (88,)\n",
            "Model: \"sequential_14\"\n",
            "_________________________________________________________________\n",
            "Layer (type)                 Output Shape              Param #   \n",
            "=================================================================\n",
            "dense_51 (Dense)             (None, 50)                4450      \n",
            "_________________________________________________________________\n",
            "dense_52 (Dense)             (None, 50)                2550      \n",
            "_________________________________________________________________\n",
            "dense_53 (Dense)             (None, 1)                 51        \n",
            "=================================================================\n",
            "Total params: 7,051\n",
            "Trainable params: 7,051\n",
            "Non-trainable params: 0\n",
            "_________________________________________________________________\n",
            "Precision: 0.6132016777992249\n",
            "Recall: 0.6429523229598999\n",
            "f1 0.6106857657432556\n",
            "Accuracy 0.8136836886405945\n"
          ],
          "name": "stdout"
        }
      ]
    },
    {
      "cell_type": "markdown",
      "metadata": {
        "id": "iM3bPwUpVQ38"
      },
      "source": [
        "### Ideas for more advanced feature engineering\n",
        "\n"
      ]
    }
  ]
}